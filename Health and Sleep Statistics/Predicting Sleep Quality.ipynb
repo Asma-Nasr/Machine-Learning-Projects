{
 "cells": [
  {
   "cell_type": "markdown",
   "id": "90593314",
   "metadata": {},
   "source": [
    "## Importing Libraries"
   ]
  },
  {
   "cell_type": "code",
   "execution_count": 1,
   "id": "31df5d8e",
   "metadata": {},
   "outputs": [],
   "source": [
    "import pandas as pd\n",
    "import numpy as np\n",
    "from sklearn.preprocessing import LabelEncoder\n",
    "from sklearn.model_selection import train_test_split\n",
    "from sklearn.ensemble import RandomForestClassifier\n",
    "from sklearn.metrics import accuracy_score, confusion_matrix,ConfusionMatrixDisplay\n",
    "import matplotlib.pyplot as plt"
   ]
  },
  {
   "cell_type": "markdown",
   "id": "8639a610",
   "metadata": {},
   "source": [
    "## Data"
   ]
  },
  {
   "cell_type": "code",
   "execution_count": 2,
   "id": "d4fea615",
   "metadata": {},
   "outputs": [],
   "source": [
    "data = pd.read_csv('Health_Sleep_Statistics.csv')"
   ]
  },
  {
   "cell_type": "code",
   "execution_count": 3,
   "id": "1ab42e5f",
   "metadata": {},
   "outputs": [
    {
     "data": {
      "text/html": [
       "<div>\n",
       "<style scoped>\n",
       "    .dataframe tbody tr th:only-of-type {\n",
       "        vertical-align: middle;\n",
       "    }\n",
       "\n",
       "    .dataframe tbody tr th {\n",
       "        vertical-align: top;\n",
       "    }\n",
       "\n",
       "    .dataframe thead th {\n",
       "        text-align: right;\n",
       "    }\n",
       "</style>\n",
       "<table border=\"1\" class=\"dataframe\">\n",
       "  <thead>\n",
       "    <tr style=\"text-align: right;\">\n",
       "      <th></th>\n",
       "      <th>User ID</th>\n",
       "      <th>Age</th>\n",
       "      <th>Gender</th>\n",
       "      <th>Sleep Quality</th>\n",
       "      <th>Bedtime</th>\n",
       "      <th>Wake-up Time</th>\n",
       "      <th>Daily Steps</th>\n",
       "      <th>Calories Burned</th>\n",
       "      <th>Physical Activity Level</th>\n",
       "      <th>Dietary Habits</th>\n",
       "      <th>Sleep Disorders</th>\n",
       "      <th>Medication Usage</th>\n",
       "    </tr>\n",
       "  </thead>\n",
       "  <tbody>\n",
       "    <tr>\n",
       "      <th>0</th>\n",
       "      <td>1</td>\n",
       "      <td>25</td>\n",
       "      <td>f</td>\n",
       "      <td>8</td>\n",
       "      <td>23:00</td>\n",
       "      <td>06:30</td>\n",
       "      <td>8000</td>\n",
       "      <td>2500</td>\n",
       "      <td>medium</td>\n",
       "      <td>healthy</td>\n",
       "      <td>no</td>\n",
       "      <td>no</td>\n",
       "    </tr>\n",
       "    <tr>\n",
       "      <th>1</th>\n",
       "      <td>2</td>\n",
       "      <td>34</td>\n",
       "      <td>m</td>\n",
       "      <td>7</td>\n",
       "      <td>00:30</td>\n",
       "      <td>07:00</td>\n",
       "      <td>5000</td>\n",
       "      <td>2200</td>\n",
       "      <td>low</td>\n",
       "      <td>unhealthy</td>\n",
       "      <td>yes</td>\n",
       "      <td>yes</td>\n",
       "    </tr>\n",
       "    <tr>\n",
       "      <th>2</th>\n",
       "      <td>3</td>\n",
       "      <td>29</td>\n",
       "      <td>f</td>\n",
       "      <td>9</td>\n",
       "      <td>22:45</td>\n",
       "      <td>06:45</td>\n",
       "      <td>9000</td>\n",
       "      <td>2700</td>\n",
       "      <td>high</td>\n",
       "      <td>healthy</td>\n",
       "      <td>no</td>\n",
       "      <td>no</td>\n",
       "    </tr>\n",
       "  </tbody>\n",
       "</table>\n",
       "</div>"
      ],
      "text/plain": [
       "   User ID  Age Gender  Sleep Quality Bedtime Wake-up Time  Daily Steps  \\\n",
       "0        1   25      f              8   23:00        06:30         8000   \n",
       "1        2   34      m              7   00:30        07:00         5000   \n",
       "2        3   29      f              9   22:45        06:45         9000   \n",
       "\n",
       "   Calories Burned Physical Activity Level Dietary Habits Sleep Disorders  \\\n",
       "0             2500                  medium        healthy              no   \n",
       "1             2200                     low      unhealthy             yes   \n",
       "2             2700                    high        healthy              no   \n",
       "\n",
       "  Medication Usage  \n",
       "0               no  \n",
       "1              yes  \n",
       "2               no  "
      ]
     },
     "execution_count": 3,
     "metadata": {},
     "output_type": "execute_result"
    }
   ],
   "source": [
    "data.head(3)"
   ]
  },
  {
   "cell_type": "code",
   "execution_count": 4,
   "id": "b7cd6480",
   "metadata": {},
   "outputs": [
    {
     "data": {
      "text/plain": [
       "Sleep Quality\n",
       "8    25\n",
       "9    25\n",
       "5    13\n",
       "6    13\n",
       "7    12\n",
       "4    12\n",
       "Name: count, dtype: int64"
      ]
     },
     "execution_count": 4,
     "metadata": {},
     "output_type": "execute_result"
    }
   ],
   "source": [
    "data['Sleep Quality'].value_counts()"
   ]
  },
  {
   "cell_type": "markdown",
   "id": "7091a9f2",
   "metadata": {},
   "source": [
    "## Categorical Features to Numerical"
   ]
  },
  {
   "cell_type": "code",
   "execution_count": 5,
   "id": "0a667c0d",
   "metadata": {},
   "outputs": [],
   "source": [
    "categorical_cols = data.select_dtypes(include=['object', 'category']).columns.tolist()"
   ]
  },
  {
   "cell_type": "code",
   "execution_count": 6,
   "id": "863ecffd",
   "metadata": {},
   "outputs": [],
   "source": [
    "label_encoder = LabelEncoder()\n",
    "for column in categorical_cols:\n",
    "    data[column] = label_encoder.fit_transform(data[column])"
   ]
  },
  {
   "cell_type": "code",
   "execution_count": 7,
   "id": "c3b0b9e5",
   "metadata": {},
   "outputs": [],
   "source": [
    "X = data.drop(['Sleep Quality'],axis = 1)\n",
    "y = data['Sleep Quality']"
   ]
  },
  {
   "cell_type": "markdown",
   "id": "98bf7321",
   "metadata": {},
   "source": [
    "## Data Splitting"
   ]
  },
  {
   "cell_type": "code",
   "execution_count": 8,
   "id": "e7b658b2",
   "metadata": {},
   "outputs": [],
   "source": [
    "X_train,X_test,y_train,y_test = train_test_split(X,y,test_size=0.3,random_state=42)"
   ]
  },
  {
   "cell_type": "markdown",
   "id": "5624b4f2",
   "metadata": {},
   "source": [
    "## Classifier"
   ]
  },
  {
   "cell_type": "code",
   "execution_count": 9,
   "id": "f0f3b598",
   "metadata": {},
   "outputs": [],
   "source": [
    "clf = RandomForestClassifier(n_estimators=100,criterion='gini').fit(X_train,y_train)"
   ]
  },
  {
   "cell_type": "markdown",
   "id": "9180fb22",
   "metadata": {},
   "source": [
    "## Accuracy"
   ]
  },
  {
   "cell_type": "code",
   "execution_count": 10,
   "id": "0a81e9bf",
   "metadata": {},
   "outputs": [
    {
     "name": "stdout",
     "output_type": "stream",
     "text": [
      "Train Accuracy: 100.00%\n",
      "Test Accuracy: 96.67%\n"
     ]
    }
   ],
   "source": [
    "pred = clf.predict(X_test)\n",
    "predt = clf.predict(X_train)\n",
    "\n",
    "print(f'Train Accuracy: {accuracy_score(y_train,predt)*100:.2f}%')\n",
    "print(f'Test Accuracy: {accuracy_score(y_test,pred)*100:.2f}%')"
   ]
  },
  {
   "cell_type": "markdown",
   "id": "999a0985",
   "metadata": {},
   "source": [
    "## Confusion Matrix"
   ]
  },
  {
   "cell_type": "code",
   "execution_count": 11,
   "id": "7b7ee2bd",
   "metadata": {},
   "outputs": [
    {
     "data": {
      "image/png": "[encoded data removed]",
      "text/plain": [
       "<Figure size 640x480 with 2 Axes>"
      ]
     },
     "metadata": {},
     "output_type": "display_data"
    }
   ],
   "source": [
    "cm = confusion_matrix(y_test, pred)\n",
    "disp = ConfusionMatrixDisplay(confusion_matrix=cm)\n",
    "disp.plot(cmap=plt.cm.Blues)\n",
    "plt.title('Confusion Matrix')\n",
    "plt.show()"
   ]
  },
  {
   "cell_type": "markdown",
   "id": "71a88187",
   "metadata": {},
   "source": [
    "## Feature Importance"
   ]
  },
  {
   "cell_type": "code",
   "execution_count": 12,
   "id": "8889ce53",
   "metadata": {},
   "outputs": [
    {
     "data": {
      "image/png": "[encoded data removed]",
      "text/plain": [
       "<Figure size 1000x600 with 1 Axes>"
      ]
     },
     "metadata": {},
     "output_type": "display_data"
    }
   ],
   "source": [
    "feature_importances = clf.feature_importances_\n",
    "feature_names = clf.feature_names_in_\n",
    "\n",
    "indices = np.argsort(feature_importances)[::-1]\n",
    "\n",
    "plt.figure(figsize=(10, 6))\n",
    "plt.title(\"Feature Importances\")\n",
    "plt.bar(range(len(feature_importances)), feature_importances[indices], align='center')\n",
    "plt.xticks(range(len(feature_importances)), np.array(feature_names)[indices], rotation=90)\n",
    "plt.xlim([-1, len(feature_importances)])\n",
    "plt.ylabel(\"Importance\")\n",
    "plt.tight_layout()\n",
    "plt.show()"
   ]
  }
 ],
 "metadata": {
  "kernelspec": {
   "display_name": "base",
   "language": "python",
   "name": "python3"
  },
  "language_info": {
   "codemirror_mode": {
    "name": "ipython",
    "version": 3
   },
   "file_extension": ".py",
   "mimetype": "text/x-python",
   "name": "python",
   "nbconvert_exporter": "python",
   "pygments_lexer": "ipython3",
   "version": "3.11.5"
  }
 },
 "nbformat": 4,
 "nbformat_minor": 5
}
